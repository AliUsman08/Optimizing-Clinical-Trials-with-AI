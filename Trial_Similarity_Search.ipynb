{
 "cells": [
  {
   "cell_type": "code",
   "execution_count": 12,
   "id": "303ffd63",
   "metadata": {},
   "outputs": [],
   "source": [
    "from pytrial.data.demo_data import load_trial_document_data"
   ]
  },
  {
   "cell_type": "code",
   "execution_count": 13,
   "id": "b5e034cb",
   "metadata": {},
   "outputs": [],
   "source": [
    "# this will take long because it will download ALL clinical trial documents from https://clinicaltrials.gov,\n",
    "# where there are over 400K clinical trials\n",
    "# >1.4GB in total\n",
    "data = load_trial_document_data()"
   ]
  },
  {
   "cell_type": "code",
   "execution_count": 14,
   "id": "4e066d90",
   "metadata": {},
   "outputs": [],
   "source": [
    "df = data['x'].sample(10000) # make a downsampling for efficient demonstration"
   ]
  },
  {
   "cell_type": "code",
   "execution_count": 15,
   "id": "82d94828",
   "metadata": {},
   "outputs": [],
   "source": [
    "from pytrial.tasks.trial_search import Doc2Vec"
   ]
  },
  {
   "cell_type": "code",
   "execution_count": 16,
   "id": "ce80ae10",
   "metadata": {},
   "outputs": [],
   "source": [
    "model = Doc2Vec(\n",
    "    emb_dim=128,\n",
    "    epochs=50,\n",
    "    num_workers=8,\n",
    "    )"
   ]
  },
  {
   "cell_type": "code",
   "execution_count": 17,
   "id": "a10a559b",
   "metadata": {},
   "outputs": [],
   "source": [
    "model.fit(\n",
    "    {'x': df,\n",
    "    'fields':['title', 'disease', 'intervention_name'],\n",
    "    'tag': 'nct_id'}\n",
    "    )"
   ]
  },
  {
   "cell_type": "code",
   "execution_count": 18,
   "id": "067b0121",
   "metadata": {},
   "outputs": [],
   "source": [
    "preds = model.predict({\n",
    "    'x': df.iloc[:20], \n",
    "    'fields': ['title'],}, # use which field to represent the trial, here we only take the title\n",
    "    top_k=5)"
   ]
  },
  {
   "cell_type": "code",
   "execution_count": 19,
   "id": "00dde1df",
   "metadata": {},
   "outputs": [
    {
     "name": "stdout",
     "output_type": "stream",
     "text": [
      "test nct_id: NCT04399096, title: Sound and Vision: A Collaboration Between Service-users, Artists and the Public to Explore the Lived Experience of Hallucinations, rank_list [('NCT04399096', 0.8295636177062988), ('NCT03464110', 0.6829129457473755), ('NCT04950998', 0.6388773322105408), ('NCT05150067', 0.6248247623443604), ('NCT05155995', 0.6165440678596497)] \n",
      "\n",
      "test nct_id: NCT02138188, title: Psychological Aspects and Insulin Pump Therapy, rank_list [('NCT02138188', 0.6548818945884705), ('NCT01636596', 0.6211107969284058), ('NCT00965406', 0.6193327903747559), ('NCT01420692', 0.5803236961364746), ('NCT02806999', 0.5376851558685303)] \n",
      "\n",
      "test nct_id: NCT00432601, title: Testing the Helpfulness of 2 Decision Aids for Prostate Cancer, rank_list [('NCT03500432', 0.757723867893219), ('NCT04379362', 0.7218156456947327), ('NCT03214315', 0.6810956597328186), ('NCT01050842', 0.6714319586753845), ('NCT00063609', 0.6669366955757141)] \n",
      "\n",
      "test nct_id: NCT00759486, title: Pediatric Facial Fracture Study, rank_list [('NCT00759486', 0.8696984648704529), ('NCT02485366', 0.7052808403968811), ('NCT03415282', 0.6723913550376892), ('NCT01840605', 0.6700730323791504), ('NCT01476696', 0.6616644859313965)] \n",
      "\n",
      "test nct_id: NCT04786977, title: Physiologic Measure of VIPN, rank_list [('NCT04786977', 0.7800250053405762), ('NCT01922349', 0.7649822235107422), ('NCT03322904', 0.7634848952293396), ('NCT04658329', 0.7355170249938965), ('NCT03017950', 0.7293825149536133)] \n",
      "\n",
      "test nct_id: NCT03522558, title: Medical Nutrition Therapy for Medically Complex Infants in the Pediatric Outpatient Setting, rank_list [('NCT03522558', 0.7777166366577148), ('NCT04054050', 0.6445013880729675), ('NCT03784170', 0.6334871053695679), ('NCT05546723', 0.6319727301597595), ('NCT01608399', 0.6222296357154846)] \n",
      "\n",
      "test nct_id: NCT02407431, title: PaTH Clinical Data Research Network (CDRN) Idiopathic Pulmonary Fibrosis (IPF) Clinician Patient Partnership Cohort, rank_list [('NCT02407431', 0.8021790981292725), ('NCT01338415', 0.6976370215415955), ('NCT02396212', 0.6817079782485962), ('NCT04987827', 0.6454453468322754), ('NCT01703845', 0.6432820558547974)] \n",
      "\n",
      "test nct_id: NCT00312598, title: Body Mass Index (BMI) and Metabolic Changes Following Switch to Aripiprazole From Olanzapine, Risperidone and Quetiapine, rank_list [('NCT00312598', 0.8612069487571716), ('NCT03108625', 0.6243017911911011), ('NCT02949752', 0.5951024293899536), ('NCT02891278', 0.5852200388908386), ('NCT01725503', 0.5813310742378235)] \n",
      "\n",
      "test nct_id: NCT02032550, title: Treatment Preference and Patient Centered Prostate Cancer Care, rank_list [('NCT02032550', 0.6330351233482361), ('NCT03214315', 0.6045176386833191), ('NCT03500432', 0.598495602607727), ('NCT00005857', 0.5955485701560974), ('NCT04134260', 0.5829408168792725)] \n",
      "\n",
      "test nct_id: NCT04161521, title: Conservative Surgical Novel Technique of Placenta Accreta in Menoufia University Hospital, rank_list [('NCT04161521', 0.8032642006874084), ('NCT04596423', 0.6919298768043518), ('NCT03145766', 0.6629562377929688), ('NCT02860663', 0.6571847796440125), ('NCT01922349', 0.6563157439231873)] \n",
      "\n",
      "test nct_id: NCT03072277, title: Maternal DHA Supplementation and Offspring Neurodevelopment in India (DHANI-2), rank_list [('NCT02214225', 0.8082377314567566), ('NCT00115271', 0.800653874874115), ('NCT01348919', 0.790951132774353), ('NCT00239694', 0.7874395251274109), ('NCT01903434', 0.7852638363838196)] \n",
      "\n",
      "test nct_id: NCT04825652, title: 177Lu-PSMA-617 Managed Access Program for mCRPC Patients, rank_list [('NCT04825652', 0.8335916996002197), ('NCT03308682', 0.6725833415985107), ('NCT01516762', 0.610640287399292), ('NCT00851916', 0.5903352499008179), ('NCT00576680', 0.5860686302185059)] \n",
      "\n",
      "test nct_id: NCT04805125, title: Immunocompromised Swiss Cohorts Based Trial Platform, rank_list [('NCT03795766', 0.8516688346862793), ('NCT01635634', 0.8486244678497314), ('NCT02679079', 0.8367196321487427), ('NCT04122950', 0.8307675123214722), ('NCT05113316', 0.8307260274887085)] \n",
      "\n",
      "test nct_id: NCT03532464, title: Azithromycin Compared With Doxycycline for Treating Anorectal Chlamydia Trachomatis Infection Concomitant to a Vaginal Infection, rank_list [('NCT03532464', 0.7884040474891663), ('NCT00266214', 0.4922682046890259), ('NCT04318639', 0.44469454884529114), ('NCT03632109', 0.43587827682495117), ('NCT02944968', 0.41989171504974365)] \n",
      "\n",
      "test nct_id: NCT04115358, title: Evaluation of Hyaluronic Acid Pulpotomies in Primary Molars, rank_list [('NCT04115358', 0.8003718852996826), ('NCT00702377', 0.758158266544342), ('NCT05501275', 0.7579485774040222), ('NCT04727619', 0.7547582983970642), ('NCT02385123', 0.747877299785614)] \n",
      "\n",
      "test nct_id: NCT00816634, title: Efficacy Comparison Study of Combination Regimens to Treat Advanced Esophageal Squamous Cell Carcinoma, rank_list [('NCT00816634', 0.7554176449775696), ('NCT00495313', 0.7293011546134949), ('NCT05176912', 0.7142090201377869), ('NCT00877175', 0.7129824161529541), ('NCT03900910', 0.711293637752533)] \n",
      "\n",
      "test nct_id: NCT04198558, title: A Study of the Safety, Tolerability and Pharmacokinetics of MEDI0618 in Healthy Volunteers, rank_list [('NCT02963844', 0.8841787576675415), ('NCT01922349', 0.8820562958717346), ('NCT03908411', 0.8785475492477417), ('NCT03795766', 0.8752232193946838), ('NCT01903434', 0.8725100159645081)] \n",
      "\n",
      "test nct_id: NCT02707523, title: Prospective Pilot Clinical Trial of Azithromycin Treatment In Respiratory Syncytial Virus (RSV)- Induced Respiratory Failure In Children, rank_list [('NCT02707523', 0.7590519189834595), ('NCT04322500', 0.7376120090484619), ('NCT01249885', 0.649639904499054), ('NCT02787876', 0.6394416093826294), ('NCT01231074', 0.6366925835609436)] \n",
      "\n",
      "test nct_id: NCT03725722, title: Dose-ranging Trial to Evaluate Delgocitinib Cream 1, 3, 8, and 20 mg/g Compared to Delgocitinib Cream Vehicle Over an 8-week Treatment Period in Adult Subjects With Atopic Dermatitis., rank_list [('NCT03725722', 0.8045452833175659), ('NCT03186443', 0.5146191716194153), ('NCT03116698', 0.4859071969985962), ('NCT00351910', 0.4451972544193268), ('NCT02498652', 0.4428088665008545)] \n",
      "\n",
      "test nct_id: NCT03614806, title: Comparison of Transcutaneous Vs End-tidal CO2 Pressure Measurements in Hyperventilation Syndrome Diagnosis, rank_list [('NCT03615508', 0.6913015246391296), ('NCT03537170', 0.6819868683815002), ('NCT03331328', 0.6686517000198364), ('NCT00938756', 0.6195545196533203), ('NCT00145093', 0.6144905686378479)] \n",
      "\n"
     ]
    }
   ],
   "source": [
    "for i,pred in enumerate(preds):\n",
    "    test_nct = df.iloc[i]['nct_id']\n",
    "    test_title = df.iloc[i]['title']\n",
    "    print(f'test nct_id: {test_nct}, title: {test_title}, rank_list {pred} \\n')"
   ]
  },
  {
   "cell_type": "code",
   "execution_count": null,
   "id": "441129d5",
   "metadata": {},
   "outputs": [],
   "source": []
  }
 ],
 "metadata": {
  "kernelspec": {
   "display_name": "Python 3 (ipykernel)",
   "language": "python",
   "name": "python3"
  },
  "language_info": {
   "codemirror_mode": {
    "name": "ipython",
    "version": 3
   },
   "file_extension": ".py",
   "mimetype": "text/x-python",
   "name": "python",
   "nbconvert_exporter": "python",
   "pygments_lexer": "ipython3",
   "version": "3.10.9"
  }
 },
 "nbformat": 4,
 "nbformat_minor": 5
}
