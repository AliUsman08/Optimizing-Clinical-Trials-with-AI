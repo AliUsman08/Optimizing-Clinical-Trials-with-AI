{
 "cells": [
  {
   "cell_type": "code",
   "execution_count": 68,
   "id": "f4bc3a60",
   "metadata": {},
   "outputs": [],
   "source": [
    "# load demo data\n",
    "from pytrial.data.demo_data import load_trial_outcome_data\n",
    "\n",
    "# prepare the input data class for this task\n",
    "from pytrial.data.trial_data import TrialOutcomeDatasetBase"
   ]
  },
  {
   "cell_type": "code",
   "execution_count": 69,
   "id": "2958be22",
   "metadata": {},
   "outputs": [],
   "source": [
    "# build trial data class\n",
    "df_train = load_trial_outcome_data(phase='I', split='train')['data']\n",
    "df_val = load_trial_outcome_data(phase='I', split='valid')['data']\n",
    "df_test = load_trial_outcome_data(phase='I', split='test')['data']\n",
    "\n",
    "train_data = TrialOutcomeDatasetBase(df_train)\n",
    "valid_data = TrialOutcomeDatasetBase(df_val)\n",
    "test_data = TrialOutcomeDatasetBase(df_test)"
   ]
  },
  {
   "cell_type": "code",
   "execution_count": 70,
   "id": "fd8fee0d",
   "metadata": {},
   "outputs": [],
   "source": [
    "from pytrial.tasks.trial_outcome import XGBoost"
   ]
  },
  {
   "cell_type": "code",
   "execution_count": 71,
   "id": "46015953",
   "metadata": {},
   "outputs": [],
   "source": [
    "model = XGBoost()"
   ]
  },
  {
   "cell_type": "code",
   "execution_count": 73,
   "id": "eedcd9a7",
   "metadata": {},
   "outputs": [
    {
     "name": "stdout",
     "output_type": "stream",
     "text": [
      "[0]\tvalidation_0-auc:0.61418\n",
      "[1]\tvalidation_0-auc:0.64493\n",
      "[2]\tvalidation_0-auc:0.63045\n",
      "[3]\tvalidation_0-auc:0.61119\n",
      "[4]\tvalidation_0-auc:0.59806\n",
      "[5]\tvalidation_0-auc:0.58075\n",
      "[6]\tvalidation_0-auc:0.58821\n",
      "[7]\tvalidation_0-auc:0.58269\n",
      "[8]\tvalidation_0-auc:0.56955\n",
      "[9]\tvalidation_0-auc:0.58418\n",
      "[10]\tvalidation_0-auc:0.57433\n",
      "[11]\tvalidation_0-auc:0.58299\n",
      "[12]\tvalidation_0-auc:0.56716\n",
      "[13]\tvalidation_0-auc:0.58119\n",
      "[14]\tvalidation_0-auc:0.56940\n",
      "[15]\tvalidation_0-auc:0.56493\n",
      "[16]\tvalidation_0-auc:0.55104\n",
      "[17]\tvalidation_0-auc:0.54597\n",
      "[18]\tvalidation_0-auc:0.55299\n",
      "[19]\tvalidation_0-auc:0.56239\n",
      "[20]\tvalidation_0-auc:0.57254\n",
      "[21]\tvalidation_0-auc:0.58090\n",
      "[22]\tvalidation_0-auc:0.57970\n",
      "[23]\tvalidation_0-auc:0.58552\n",
      "[24]\tvalidation_0-auc:0.59179\n",
      "[25]\tvalidation_0-auc:0.58104\n",
      "[26]\tvalidation_0-auc:0.58612\n",
      "[27]\tvalidation_0-auc:0.58045\n",
      "[28]\tvalidation_0-auc:0.58134\n",
      "[29]\tvalidation_0-auc:0.57925\n",
      "[30]\tvalidation_0-auc:0.56104\n",
      "[31]\tvalidation_0-auc:0.56224\n",
      "[32]\tvalidation_0-auc:0.55597\n",
      "[33]\tvalidation_0-auc:0.56642\n",
      "[34]\tvalidation_0-auc:0.56612\n",
      "[35]\tvalidation_0-auc:0.56672\n",
      "[36]\tvalidation_0-auc:0.57000\n",
      "[37]\tvalidation_0-auc:0.57687\n",
      "[38]\tvalidation_0-auc:0.57687\n",
      "[39]\tvalidation_0-auc:0.57388\n",
      "[40]\tvalidation_0-auc:0.57448\n",
      "[41]\tvalidation_0-auc:0.58403\n",
      "[42]\tvalidation_0-auc:0.58642\n",
      "[43]\tvalidation_0-auc:0.58910\n",
      "[44]\tvalidation_0-auc:0.58791\n",
      "[45]\tvalidation_0-auc:0.58791\n",
      "[46]\tvalidation_0-auc:0.58343\n",
      "[47]\tvalidation_0-auc:0.59119\n",
      "[48]\tvalidation_0-auc:0.58940\n",
      "[49]\tvalidation_0-auc:0.59358\n",
      "[50]\tvalidation_0-auc:0.59448\n",
      "[51]\tvalidation_0-auc:0.59269\n",
      "[52]\tvalidation_0-auc:0.59358\n",
      "[53]\tvalidation_0-auc:0.59299\n",
      "[54]\tvalidation_0-auc:0.59209\n",
      "[55]\tvalidation_0-auc:0.58701\n",
      "[56]\tvalidation_0-auc:0.59000\n",
      "[57]\tvalidation_0-auc:0.58313\n",
      "[58]\tvalidation_0-auc:0.58134\n",
      "[59]\tvalidation_0-auc:0.58343\n",
      "[60]\tvalidation_0-auc:0.58015\n",
      "[61]\tvalidation_0-auc:0.58493\n",
      "[62]\tvalidation_0-auc:0.58433\n",
      "[63]\tvalidation_0-auc:0.59448\n",
      "[64]\tvalidation_0-auc:0.59269\n",
      "[65]\tvalidation_0-auc:0.59313\n",
      "[66]\tvalidation_0-auc:0.59970\n",
      "[67]\tvalidation_0-auc:0.60299\n",
      "[68]\tvalidation_0-auc:0.60776\n",
      "[69]\tvalidation_0-auc:0.60925\n",
      "[70]\tvalidation_0-auc:0.61045\n",
      "[71]\tvalidation_0-auc:0.61433\n",
      "[72]\tvalidation_0-auc:0.60358\n",
      "[73]\tvalidation_0-auc:0.60597\n",
      "[74]\tvalidation_0-auc:0.61313\n",
      "[75]\tvalidation_0-auc:0.61612\n",
      "[76]\tvalidation_0-auc:0.61075\n",
      "[77]\tvalidation_0-auc:0.61433\n",
      "[78]\tvalidation_0-auc:0.61433\n",
      "[79]\tvalidation_0-auc:0.61463\n",
      "[80]\tvalidation_0-auc:0.61284\n",
      "[81]\tvalidation_0-auc:0.61164\n",
      "[82]\tvalidation_0-auc:0.60537\n",
      "[83]\tvalidation_0-auc:0.60567\n",
      "[84]\tvalidation_0-auc:0.60507\n",
      "[85]\tvalidation_0-auc:0.60537\n",
      "[86]\tvalidation_0-auc:0.59851\n",
      "[87]\tvalidation_0-auc:0.59821\n",
      "[88]\tvalidation_0-auc:0.60358\n",
      "[89]\tvalidation_0-auc:0.59970\n",
      "[90]\tvalidation_0-auc:0.59791\n",
      "[91]\tvalidation_0-auc:0.58806\n",
      "[92]\tvalidation_0-auc:0.59134\n",
      "[93]\tvalidation_0-auc:0.58567\n",
      "[94]\tvalidation_0-auc:0.58716\n",
      "[95]\tvalidation_0-auc:0.58776\n",
      "[96]\tvalidation_0-auc:0.59015\n",
      "[97]\tvalidation_0-auc:0.58597\n",
      "[98]\tvalidation_0-auc:0.58418\n",
      "[99]\tvalidation_0-auc:0.58627\n"
     ]
    }
   ],
   "source": [
    "model.fit(train_data, valid_data)"
   ]
  },
  {
   "cell_type": "code",
   "execution_count": 74,
   "id": "88007f08",
   "metadata": {},
   "outputs": [],
   "source": [
    "# make predictions\n",
    "prediction = model.predict(test_data)"
   ]
  },
  {
   "cell_type": "code",
   "execution_count": 75,
   "id": "2a80777b",
   "metadata": {},
   "outputs": [
    {
     "name": "stdout",
     "output_type": "stream",
     "text": [
      "[('NCT01288573', 0.42358341813087463), ('NCT01558674', 0.9127393960952759), ('NCT01575782', 0.4799085855484009), ('NCT01609816', 0.7913303971290588), ('NCT01657760', 0.4656006097793579), ('NCT01746784', 0.5021194815635681), ('NCT01799161', 0.661858081817627), ('NCT01803399', 0.19194719195365906), ('NCT01812616', 0.2637676000595093), ('NCT01836289', 0.6643228530883789), ('NCT01838200', 0.25761470198631287), ('NCT01849276', 0.8503746390342712), ('NCT01852890', 0.3774058222770691), ('NCT01889420', 0.9024147987365723), ('NCT01902225', 0.8255944848060608), ('NCT01904643', 0.20215579867362976), ('NCT01933594', 0.9057919383049011), ('NCT01940133', 0.5023119449615479), ('NCT01949532', 0.9030727744102478), ('NCT01953809', 0.18010756373405457), ('NCT01954732', 0.8633814454078674), ('NCT01965600', 0.9984234571456909), ('NCT01966731', 0.6133838891983032), ('NCT01972711', 0.5772325396537781), ('NCT01975688', 0.12516692280769348), ('NCT01980667', 0.34012308716773987), ('NCT01981499', 0.9017136693000793), ('NCT01982435', 0.9474661946296692), ('NCT01986751', 0.36293745040893555), ('NCT01988493', 0.2765052616596222), ('NCT01992952', 0.9693304300308228), ('NCT02000700', 0.9973376393318176), ('NCT02009488', 0.9694766402244568), ('NCT02013128', 0.8871271014213562), ('NCT02013362', 0.6956168413162231), ('NCT02018523', 0.4135010540485382), ('NCT02023424', 0.5956422090530396), ('NCT02030483', 0.7182777523994446), ('NCT02034071', 0.6544541716575623), ('NCT02034292', 0.9357417225837708), ('NCT02037165', 0.5904552936553955), ('NCT02037230', 0.28109991550445557), ('NCT02040870', 0.71946120262146), ('NCT02041481', 0.6251903772354126), ('NCT02043860', 0.424593985080719), ('NCT02044796', 0.4898150563240051), ('NCT02047149', 0.7559689283370972), ('NCT02049385', 0.2405744343996048), ('NCT02050815', 0.09357734769582748), ('NCT02052739', 0.16554240882396698)]\n"
     ]
    }
   ],
   "source": [
    "print(prediction[:50])"
   ]
  },
  {
   "cell_type": "markdown",
   "id": "72a48f93",
   "metadata": {},
   "source": [
    "('NCT02000700', 0.9973376393318176) - Models predicts a 100% chance of success"
   ]
  },
  {
   "cell_type": "markdown",
   "id": "55c9f647",
   "metadata": {},
   "source": [
    "('NCT02050815', 0.09357734769582748) - Model Predicts only 9% Chance of Success meaning the clinical trial will most likely fail"
   ]
  },
  {
   "cell_type": "code",
   "execution_count": null,
   "id": "4215fe50",
   "metadata": {},
   "outputs": [],
   "source": [
    "model.save_model('./save_model/trial_outcome')"
   ]
  },
  {
   "cell_type": "code",
   "execution_count": null,
   "id": "d4a2b2bc",
   "metadata": {},
   "outputs": [],
   "source": []
  },
  {
   "cell_type": "code",
   "execution_count": null,
   "id": "e1062d8b",
   "metadata": {},
   "outputs": [],
   "source": []
  }
 ],
 "metadata": {
  "kernelspec": {
   "display_name": "Python 3 (ipykernel)",
   "language": "python",
   "name": "python3"
  },
  "language_info": {
   "codemirror_mode": {
    "name": "ipython",
    "version": 3
   },
   "file_extension": ".py",
   "mimetype": "text/x-python",
   "name": "python",
   "nbconvert_exporter": "python",
   "pygments_lexer": "ipython3",
   "version": "3.10.9"
  }
 },
 "nbformat": 4,
 "nbformat_minor": 5
}
