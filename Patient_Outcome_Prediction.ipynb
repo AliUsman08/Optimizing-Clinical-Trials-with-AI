{
 "cells": [
  {
   "cell_type": "code",
   "execution_count": 72,
   "id": "844eb49f",
   "metadata": {},
   "outputs": [],
   "source": [
    "from pytrial.tasks.indiv_outcome.data import SequencePatient\n",
    "\n",
    "# build the train data\n",
    "seqdata = SequencePatient(\n",
    "    data={'v':data['visit'][:-200], 'y':data['y'][:-200], 'x':data['feature'][:-200]},\n",
    "    metadata={\n",
    "        'visit':{'mode':'dense', 'order': data['order']},\n",
    "        'label':{'mode':'tensor'},\n",
    "        'voc':data['voc'],\n",
    "        'max_visit':20,\n",
    "        }\n",
    "    )\n"
   ]
  },
  {
   "cell_type": "code",
   "execution_count": 73,
   "id": "65f9dea4",
   "metadata": {},
   "outputs": [],
   "source": [
    "# build the test data\n",
    "val_seqdata = SequencePatient(\n",
    "    data={'v':data['visit'][-200:], 'y':data['y'][-200:], 'x':data['feature'][-200:]},\n",
    "    metadata={\n",
    "        'visit':{'mode':'dense', 'order': data['order']},\n",
    "        'label':{'mode':'tensor'},\n",
    "        'voc':data['voc'],\n",
    "        'max_visit':20,\n",
    "        }\n",
    "    )"
   ]
  },
  {
   "cell_type": "code",
   "execution_count": 74,
   "id": "47901b3a",
   "metadata": {},
   "outputs": [],
   "source": [
    "from pytrial.data.patient_data import SeqPatientCollator # we need a collation function to process the input SequencePatient dataset\n",
    "from pytrial.tasks.indiv_outcome.sequence import RNN"
   ]
  },
  {
   "cell_type": "code",
   "execution_count": 75,
   "id": "427d8f47",
   "metadata": {
    "scrolled": true
   },
   "outputs": [
    {
     "name": "stdout",
     "output_type": "stream",
     "text": [
      "{'lr': 0.0001, 'weight_decay': 0.0001}\n",
      "***** Running training *****\n",
      "  Num examples = 800\n",
      "  Num Epochs = 20\n",
      "  Total optimization steps = 1000\n"
     ]
    },
    {
     "name": "stderr",
     "output_type": "stream",
     "text": [
      "Training Epoch:   0%|          | 0/20 [00:00<?, ?it/s]\n",
      "Iteration:   0%|          | 0/50 [00:00<?, ?it/s]\u001b[A\n",
      "Iteration:  12%|█▏        | 6/50 [00:00<00:00, 58.14it/s]\u001b[A\n",
      "Iteration:  24%|██▍       | 12/50 [00:00<00:00, 49.00it/s]\u001b[A\n",
      "Iteration:  36%|███▌      | 18/50 [00:00<00:00, 51.00it/s]\u001b[A\n",
      "Iteration:  48%|████▊     | 24/50 [00:00<00:00, 50.80it/s]\u001b[A\n",
      "Iteration:  60%|██████    | 30/50 [00:00<00:00, 51.37it/s]\u001b[A\n",
      "Iteration:  72%|███████▏  | 36/50 [00:00<00:00, 51.36it/s]\u001b[A\n",
      "Iteration:  84%|████████▍ | 42/50 [00:00<00:00, 50.72it/s]\u001b[A\n",
      "Iteration: 100%|██████████| 50/50 [00:00<00:00, 51.45it/s]\u001b[A\n",
      "Training Epoch:   5%|▌         | 1/20 [00:00<00:18,  1.03it/s]\n",
      "Iteration:   0%|          | 0/50 [00:00<?, ?it/s]\u001b[A\n",
      "Iteration:  12%|█▏        | 6/50 [00:00<00:00, 47.50it/s]\u001b[A\n",
      "Iteration:  24%|██▍       | 12/50 [00:00<00:00, 53.17it/s]\u001b[A\n",
      "Iteration:  36%|███▌      | 18/50 [00:00<00:00, 48.56it/s]\u001b[A\n",
      "Iteration:  48%|████▊     | 24/50 [00:00<00:00, 52.28it/s]\u001b[A\n",
      "Iteration:  60%|██████    | 30/50 [00:00<00:00, 50.94it/s]\u001b[A\n",
      "Iteration:  72%|███████▏  | 36/50 [00:00<00:00, 52.93it/s]\u001b[A\n",
      "Iteration:  84%|████████▍ | 42/50 [00:00<00:00, 48.85it/s]\u001b[A\n",
      "Iteration: 100%|██████████| 50/50 [00:01<00:00, 46.35it/s]\u001b[A\n",
      "Training Epoch:  10%|█         | 2/20 [00:02<00:18,  1.04s/it]"
     ]
    },
    {
     "name": "stdout",
     "output_type": "stream",
     "text": [
      "\n",
      "######### Train Loss 100 #########\n",
      "0 0.6519 \n",
      "\n",
      "\n",
      "######### Eval 100 #########\n",
      "auc: 0.4077\n",
      "New best score: from -inf to 0.4077299945563418\n",
      "Best checkpoint is updated at 100 with auc 0.4077299945563418.\n"
     ]
    },
    {
     "name": "stderr",
     "output_type": "stream",
     "text": [
      "\n",
      "Iteration:   0%|          | 0/50 [00:00<?, ?it/s]\u001b[A\n",
      "Iteration:  14%|█▍        | 7/50 [00:00<00:00, 66.96it/s]\u001b[A\n",
      "Iteration:  28%|██▊       | 14/50 [00:00<00:00, 59.76it/s]\u001b[A\n",
      "Iteration:  42%|████▏     | 21/50 [00:00<00:00, 54.01it/s]\u001b[A\n",
      "Iteration:  56%|█████▌    | 28/50 [00:00<00:00, 56.51it/s]\u001b[A\n",
      "Iteration:  68%|██████▊   | 34/50 [00:00<00:00, 52.67it/s]\u001b[A\n",
      "Iteration:  80%|████████  | 40/50 [00:00<00:00, 54.13it/s]\u001b[A\n",
      "Iteration: 100%|██████████| 50/50 [00:00<00:00, 51.51it/s]\u001b[A\n",
      "Training Epoch:  15%|█▌        | 3/20 [00:03<00:17,  1.01s/it]\n",
      "Iteration:   0%|          | 0/50 [00:00<?, ?it/s]\u001b[A\n",
      "Iteration:  10%|█         | 5/50 [00:00<00:00, 47.87it/s]\u001b[A\n",
      "Iteration:  22%|██▏       | 11/50 [00:00<00:00, 49.30it/s]\u001b[A\n",
      "Iteration:  34%|███▍      | 17/50 [00:00<00:00, 50.55it/s]\u001b[A\n",
      "Iteration:  46%|████▌     | 23/50 [00:00<00:00, 52.92it/s]\u001b[A\n",
      "Iteration:  58%|█████▊    | 29/50 [00:00<00:00, 53.32it/s]\u001b[A\n",
      "Iteration:  70%|███████   | 35/50 [00:00<00:00, 49.32it/s]\u001b[A\n",
      "Iteration:  82%|████████▏ | 41/50 [00:00<00:00, 50.07it/s]\u001b[A\n",
      "Iteration: 100%|██████████| 50/50 [00:01<00:00, 46.46it/s]\u001b[A\n",
      "Training Epoch:  20%|██        | 4/20 [00:04<00:16,  1.04s/it]"
     ]
    },
    {
     "name": "stdout",
     "output_type": "stream",
     "text": [
      "\n",
      "######### Train Loss 200 #########\n",
      "0 0.5338 \n",
      "\n",
      "\n",
      "######### Eval 200 #########\n",
      "auc: 0.4275\n",
      "New best score: from 0.4077299945563418 to 0.4275086191253856\n",
      "Best checkpoint is updated at 200 with auc 0.4275086191253856.\n"
     ]
    },
    {
     "name": "stderr",
     "output_type": "stream",
     "text": [
      "\n",
      "Iteration:   0%|          | 0/50 [00:00<?, ?it/s]\u001b[A\n",
      "Iteration:  12%|█▏        | 6/50 [00:00<00:00, 46.88it/s]\u001b[A\n",
      "Iteration:  22%|██▏       | 11/50 [00:00<00:01, 38.30it/s]\u001b[A\n",
      "Iteration:  34%|███▍      | 17/50 [00:00<00:00, 45.92it/s]\u001b[A\n",
      "Iteration:  44%|████▍     | 22/50 [00:00<00:00, 47.07it/s]\u001b[A\n",
      "Iteration:  60%|██████    | 30/50 [00:00<00:00, 53.28it/s]\u001b[A\n",
      "Iteration:  72%|███████▏  | 36/50 [00:00<00:00, 50.64it/s]\u001b[A\n",
      "Iteration:  84%|████████▍ | 42/50 [00:00<00:00, 48.51it/s]\u001b[A\n",
      "Iteration: 100%|██████████| 50/50 [00:01<00:00, 49.34it/s]\u001b[A\n",
      "Training Epoch:  25%|██▌       | 5/20 [00:05<00:15,  1.03s/it]\n",
      "Iteration:   0%|          | 0/50 [00:00<?, ?it/s]\u001b[A\n",
      "Iteration:  12%|█▏        | 6/50 [00:00<00:00, 57.02it/s]\u001b[A\n",
      "Iteration:  24%|██▍       | 12/50 [00:00<00:00, 50.46it/s]\u001b[A\n",
      "Iteration:  36%|███▌      | 18/50 [00:00<00:00, 49.55it/s]\u001b[A\n",
      "Iteration:  48%|████▊     | 24/50 [00:00<00:00, 50.30it/s]\u001b[A\n",
      "Iteration:  60%|██████    | 30/50 [00:00<00:00, 50.69it/s]\u001b[A\n",
      "Iteration:  72%|███████▏  | 36/50 [00:00<00:00, 53.15it/s]\u001b[A\n",
      "Iteration:  84%|████████▍ | 42/50 [00:00<00:00, 53.53it/s]\u001b[A\n",
      "Iteration: 100%|██████████| 50/50 [00:01<00:00, 47.42it/s]\u001b[A\n",
      "Training Epoch:  30%|███       | 6/20 [00:06<00:14,  1.04s/it]"
     ]
    },
    {
     "name": "stdout",
     "output_type": "stream",
     "text": [
      "\n",
      "######### Train Loss 300 #########\n",
      "0 0.5031 \n",
      "\n",
      "\n",
      "######### Eval 300 #########\n",
      "auc: 0.4580\n",
      "New best score: from 0.4275086191253856 to 0.45799310469969157\n",
      "Best checkpoint is updated at 300 with auc 0.45799310469969157.\n"
     ]
    },
    {
     "name": "stderr",
     "output_type": "stream",
     "text": [
      "\n",
      "Iteration:   0%|          | 0/50 [00:00<?, ?it/s]\u001b[A\n",
      "Iteration:  12%|█▏        | 6/50 [00:00<00:00, 48.60it/s]\u001b[A\n",
      "Iteration:  24%|██▍       | 12/50 [00:00<00:00, 51.55it/s]\u001b[A\n",
      "Iteration:  36%|███▌      | 18/50 [00:00<00:00, 50.00it/s]\u001b[A\n",
      "Iteration:  48%|████▊     | 24/50 [00:00<00:00, 52.91it/s]\u001b[A\n",
      "Iteration:  60%|██████    | 30/50 [00:00<00:00, 54.87it/s]\u001b[A\n",
      "Iteration:  72%|███████▏  | 36/50 [00:00<00:00, 54.36it/s]\u001b[A\n",
      "Iteration:  84%|████████▍ | 42/50 [00:00<00:00, 50.31it/s]\u001b[A\n",
      "Iteration: 100%|██████████| 50/50 [00:00<00:00, 51.02it/s]\u001b[A\n",
      "Training Epoch:  35%|███▌      | 7/20 [00:07<00:13,  1.02s/it]\n",
      "Iteration:   0%|          | 0/50 [00:00<?, ?it/s]\u001b[A\n",
      "Iteration:  14%|█▍        | 7/50 [00:00<00:00, 62.75it/s]\u001b[A\n",
      "Iteration:  28%|██▊       | 14/50 [00:00<00:00, 58.23it/s]\u001b[A\n",
      "Iteration:  40%|████      | 20/50 [00:00<00:00, 58.44it/s]\u001b[A\n",
      "Iteration:  52%|█████▏    | 26/50 [00:00<00:00, 57.57it/s]\u001b[A\n",
      "Iteration:  64%|██████▍   | 32/50 [00:00<00:00, 57.04it/s]\u001b[A\n",
      "Iteration:  76%|███████▌  | 38/50 [00:00<00:00, 55.32it/s]\u001b[A\n",
      "Iteration:  88%|████████▊ | 44/50 [00:00<00:00, 51.92it/s]\u001b[A\n",
      "Iteration: 100%|██████████| 50/50 [00:01<00:00, 49.73it/s]\u001b[A\n",
      "Training Epoch:  40%|████      | 8/20 [00:08<00:12,  1.02s/it]"
     ]
    },
    {
     "name": "stdout",
     "output_type": "stream",
     "text": [
      "\n",
      "######### Train Loss 400 #########\n",
      "0 0.4766 \n",
      "\n",
      "\n",
      "######### Eval 400 #########\n",
      "auc: 0.5035\n",
      "New best score: from 0.45799310469969157 to 0.5035383777898748\n",
      "Best checkpoint is updated at 400 with auc 0.5035383777898748.\n"
     ]
    },
    {
     "name": "stderr",
     "output_type": "stream",
     "text": [
      "\n",
      "Iteration:   0%|          | 0/50 [00:00<?, ?it/s]\u001b[A\n",
      "Iteration:  10%|█         | 5/50 [00:00<00:01, 41.29it/s]\u001b[A\n",
      "Iteration:  22%|██▏       | 11/50 [00:00<00:00, 44.58it/s]\u001b[A\n",
      "Iteration:  32%|███▏      | 16/50 [00:00<00:00, 44.69it/s]\u001b[A\n",
      "Iteration:  44%|████▍     | 22/50 [00:00<00:00, 49.92it/s]\u001b[A\n",
      "Iteration:  56%|█████▌    | 28/50 [00:00<00:00, 52.21it/s]\u001b[A\n",
      "Iteration:  70%|███████   | 35/50 [00:00<00:00, 55.90it/s]\u001b[A\n",
      "Iteration:  82%|████████▏ | 41/50 [00:00<00:00, 53.08it/s]\u001b[A\n",
      "Iteration: 100%|██████████| 50/50 [00:00<00:00, 51.63it/s]\u001b[A\n",
      "Training Epoch:  45%|████▌     | 9/20 [00:09<00:11,  1.00s/it]\n",
      "Iteration:   0%|          | 0/50 [00:00<?, ?it/s]\u001b[A\n",
      "Iteration:  10%|█         | 5/50 [00:00<00:01, 44.81it/s]\u001b[A\n",
      "Iteration:  22%|██▏       | 11/50 [00:00<00:00, 50.79it/s]\u001b[A\n",
      "Iteration:  34%|███▍      | 17/50 [00:00<00:00, 45.32it/s]\u001b[A\n",
      "Iteration:  44%|████▍     | 22/50 [00:00<00:00, 42.17it/s]\u001b[A\n",
      "Iteration:  54%|█████▍    | 27/50 [00:00<00:00, 43.67it/s]\u001b[A\n",
      "Iteration:  64%|██████▍   | 32/50 [00:00<00:00, 44.18it/s]\u001b[A\n",
      "Iteration:  74%|███████▍  | 37/50 [00:00<00:00, 41.78it/s]\u001b[A\n",
      "Iteration:  84%|████████▍ | 42/50 [00:00<00:00, 42.07it/s]\u001b[A\n",
      "Iteration: 100%|██████████| 50/50 [00:01<00:00, 41.63it/s]\u001b[A\n",
      "Training Epoch:  50%|█████     | 10/20 [00:10<00:10,  1.07s/it]"
     ]
    },
    {
     "name": "stdout",
     "output_type": "stream",
     "text": [
      "\n",
      "######### Train Loss 500 #########\n",
      "0 0.4389 \n",
      "\n",
      "\n",
      "######### Eval 500 #########\n",
      "auc: 0.5527\n",
      "New best score: from 0.5035383777898748 to 0.5527127563055707\n",
      "Best checkpoint is updated at 500 with auc 0.5527127563055707.\n"
     ]
    },
    {
     "name": "stderr",
     "output_type": "stream",
     "text": [
      "\n",
      "Iteration:   0%|          | 0/50 [00:00<?, ?it/s]\u001b[A\n",
      "Iteration:  10%|█         | 5/50 [00:00<00:01, 43.81it/s]\u001b[A\n",
      "Iteration:  22%|██▏       | 11/50 [00:00<00:00, 51.01it/s]\u001b[A\n",
      "Iteration:  34%|███▍      | 17/50 [00:00<00:00, 49.77it/s]\u001b[A\n",
      "Iteration:  44%|████▍     | 22/50 [00:00<00:00, 48.11it/s]\u001b[A\n",
      "Iteration:  54%|█████▍    | 27/50 [00:00<00:00, 46.79it/s]\u001b[A\n",
      "Iteration:  64%|██████▍   | 32/50 [00:00<00:00, 47.26it/s]\u001b[A\n",
      "Iteration:  78%|███████▊  | 39/50 [00:00<00:00, 52.18it/s]\u001b[A\n",
      "Iteration: 100%|██████████| 50/50 [00:01<00:00, 49.07it/s]\u001b[A\n",
      "Training Epoch:  55%|█████▌    | 11/20 [00:11<00:09,  1.05s/it]\n",
      "Iteration:   0%|          | 0/50 [00:00<?, ?it/s]\u001b[A\n",
      "Iteration:  10%|█         | 5/50 [00:00<00:00, 49.36it/s]\u001b[A\n",
      "Iteration:  20%|██        | 10/50 [00:00<00:00, 44.18it/s]\u001b[A\n",
      "Iteration:  32%|███▏      | 16/50 [00:00<00:00, 46.31it/s]\u001b[A\n",
      "Iteration:  42%|████▏     | 21/50 [00:00<00:00, 42.08it/s]\u001b[A\n",
      "Iteration:  52%|█████▏    | 26/50 [00:00<00:00, 39.10it/s]\u001b[A\n",
      "Iteration:  60%|██████    | 30/50 [00:00<00:00, 38.62it/s]\u001b[A\n",
      "Iteration:  68%|██████▊   | 34/50 [00:00<00:00, 38.50it/s]\u001b[A\n",
      "Iteration:  78%|███████▊  | 39/50 [00:00<00:00, 40.14it/s]\u001b[A\n",
      "Iteration:  90%|█████████ | 45/50 [00:01<00:00, 43.35it/s]\u001b[A\n",
      "Iteration: 100%|██████████| 50/50 [00:01<00:00, 40.07it/s]\u001b[A\n",
      "Training Epoch:  60%|██████    | 12/20 [00:12<00:08,  1.11s/it]"
     ]
    },
    {
     "name": "stdout",
     "output_type": "stream",
     "text": [
      "\n",
      "######### Train Loss 600 #########\n",
      "0 0.3809 \n",
      "\n",
      "\n",
      "######### Eval 600 #########\n",
      "auc: 0.5830\n",
      "New best score: from 0.5527127563055707 to 0.583015786608601\n",
      "Best checkpoint is updated at 600 with auc 0.583015786608601.\n"
     ]
    },
    {
     "name": "stderr",
     "output_type": "stream",
     "text": [
      "\n",
      "Iteration:   0%|          | 0/50 [00:00<?, ?it/s]\u001b[A\n",
      "Iteration:  10%|█         | 5/50 [00:00<00:01, 42.30it/s]\u001b[A\n",
      "Iteration:  20%|██        | 10/50 [00:00<00:00, 46.44it/s]\u001b[A\n",
      "Iteration:  32%|███▏      | 16/50 [00:00<00:00, 51.45it/s]\u001b[A\n",
      "Iteration:  44%|████▍     | 22/50 [00:00<00:00, 50.41it/s]\u001b[A\n",
      "Iteration:  56%|█████▌    | 28/50 [00:00<00:00, 48.66it/s]\u001b[A\n",
      "Iteration:  66%|██████▌   | 33/50 [00:00<00:00, 47.61it/s]\u001b[A\n",
      "Iteration:  76%|███████▌  | 38/50 [00:00<00:00, 47.31it/s]\u001b[A\n",
      "Iteration:  86%|████████▌ | 43/50 [00:00<00:00, 46.24it/s]\u001b[A\n",
      "Iteration: 100%|██████████| 50/50 [00:01<00:00, 48.07it/s]\u001b[A\n",
      "Training Epoch:  65%|██████▌   | 13/20 [00:13<00:07,  1.09s/it]\n",
      "Iteration:   0%|          | 0/50 [00:00<?, ?it/s]\u001b[A\n",
      "Iteration:  10%|█         | 5/50 [00:00<00:00, 49.17it/s]\u001b[A\n",
      "Iteration:  20%|██        | 10/50 [00:00<00:00, 42.19it/s]\u001b[A\n",
      "Iteration:  30%|███       | 15/50 [00:00<00:00, 41.97it/s]\u001b[A\n",
      "Iteration:  40%|████      | 20/50 [00:00<00:00, 42.29it/s]\u001b[A\n",
      "Iteration:  50%|█████     | 25/50 [00:00<00:00, 43.07it/s]\u001b[A\n",
      "Iteration:  60%|██████    | 30/50 [00:00<00:00, 43.97it/s]\u001b[A\n",
      "Iteration:  70%|███████   | 35/50 [00:00<00:00, 45.21it/s]\u001b[A\n",
      "Iteration:  80%|████████  | 40/50 [00:00<00:00, 45.67it/s]\u001b[A\n",
      "Iteration:  90%|█████████ | 45/50 [00:01<00:00, 45.96it/s]\u001b[A\n",
      "Iteration: 100%|██████████| 50/50 [00:01<00:00, 41.15it/s]\u001b[A\n",
      "Training Epoch:  70%|███████   | 14/20 [00:14<00:06,  1.13s/it]"
     ]
    },
    {
     "name": "stdout",
     "output_type": "stream",
     "text": [
      "\n",
      "######### Train Loss 700 #########\n",
      "0 0.3219 \n",
      "\n",
      "\n",
      "######### Eval 700 #########\n",
      "auc: 0.5901\n",
      "New best score: from 0.583015786608601 to 0.5900925421883506\n",
      "Best checkpoint is updated at 700 with auc 0.5900925421883506.\n"
     ]
    },
    {
     "name": "stderr",
     "output_type": "stream",
     "text": [
      "\n",
      "Iteration:   0%|          | 0/50 [00:00<?, ?it/s]\u001b[A\n",
      "Iteration:  10%|█         | 5/50 [00:00<00:01, 38.86it/s]\u001b[A\n",
      "Iteration:  18%|█▊        | 9/50 [00:00<00:01, 36.68it/s]\u001b[A\n",
      "Iteration:  26%|██▌       | 13/50 [00:00<00:00, 37.49it/s]\u001b[A\n",
      "Iteration:  36%|███▌      | 18/50 [00:00<00:00, 39.46it/s]\u001b[A\n",
      "Iteration:  48%|████▊     | 24/50 [00:00<00:00, 43.90it/s]\u001b[A\n",
      "Iteration:  58%|█████▊    | 29/50 [00:00<00:00, 45.07it/s]\u001b[A\n",
      "Iteration:  68%|██████▊   | 34/50 [00:00<00:00, 46.11it/s]\u001b[A\n",
      "Iteration:  78%|███████▊  | 39/50 [00:00<00:00, 46.05it/s]\u001b[A\n",
      "Iteration:  88%|████████▊ | 44/50 [00:01<00:00, 44.25it/s]\u001b[A\n",
      "Iteration: 100%|██████████| 50/50 [00:01<00:00, 42.88it/s]\u001b[A\n",
      "Training Epoch:  75%|███████▌  | 15/20 [00:16<00:05,  1.14s/it]\n",
      "Iteration:   0%|          | 0/50 [00:00<?, ?it/s]\u001b[A\n",
      "Iteration:  10%|█         | 5/50 [00:00<00:00, 45.49it/s]\u001b[A\n",
      "Iteration:  20%|██        | 10/50 [00:00<00:00, 45.56it/s]\u001b[A\n",
      "Iteration:  30%|███       | 15/50 [00:00<00:00, 41.87it/s]\u001b[A\n",
      "Iteration:  40%|████      | 20/50 [00:00<00:00, 43.42it/s]\u001b[A\n",
      "Iteration:  52%|█████▏    | 26/50 [00:00<00:00, 47.28it/s]\u001b[A\n",
      "Iteration:  62%|██████▏   | 31/50 [00:00<00:00, 46.93it/s]\u001b[A\n",
      "Iteration:  74%|███████▍  | 37/50 [00:00<00:00, 48.91it/s]\u001b[A\n",
      "Iteration:  86%|████████▌ | 43/50 [00:00<00:00, 50.95it/s]\u001b[A\n",
      "Iteration: 100%|██████████| 50/50 [00:01<00:00, 45.32it/s]\u001b[A\n",
      "Training Epoch:  80%|████████  | 16/20 [00:17<00:04,  1.13s/it]"
     ]
    },
    {
     "name": "stdout",
     "output_type": "stream",
     "text": [
      "\n",
      "######### Train Loss 800 #########\n",
      "0 0.2744 \n",
      "\n",
      "\n",
      "######### Eval 800 #########\n",
      "auc: 0.5727\n"
     ]
    },
    {
     "name": "stderr",
     "output_type": "stream",
     "text": [
      "\n",
      "Iteration:   0%|          | 0/50 [00:00<?, ?it/s]\u001b[A\n",
      "Iteration:   8%|▊         | 4/50 [00:00<00:01, 36.58it/s]\u001b[A\n",
      "Iteration:  20%|██        | 10/50 [00:00<00:00, 49.10it/s]\u001b[A\n",
      "Iteration:  32%|███▏      | 16/50 [00:00<00:00, 50.40it/s]\u001b[A\n",
      "Iteration:  44%|████▍     | 22/50 [00:00<00:00, 50.24it/s]\u001b[A\n",
      "Iteration:  56%|█████▌    | 28/50 [00:00<00:00, 49.14it/s]\u001b[A\n",
      "Iteration:  68%|██████▊   | 34/50 [00:00<00:00, 50.62it/s]\u001b[A\n",
      "Iteration:  82%|████████▏ | 41/50 [00:00<00:00, 53.41it/s]\u001b[A\n",
      "Iteration: 100%|██████████| 50/50 [00:00<00:00, 52.26it/s]\u001b[A\n",
      "Training Epoch:  85%|████████▌ | 17/20 [00:18<00:03,  1.08s/it]\n",
      "Iteration:   0%|          | 0/50 [00:00<?, ?it/s]\u001b[A\n",
      "Iteration:  12%|█▏        | 6/50 [00:00<00:00, 52.50it/s]\u001b[A\n",
      "Iteration:  24%|██▍       | 12/50 [00:00<00:00, 46.96it/s]\u001b[A\n",
      "Iteration:  34%|███▍      | 17/50 [00:00<00:00, 47.92it/s]\u001b[A\n",
      "Iteration:  46%|████▌     | 23/50 [00:00<00:00, 50.61it/s]\u001b[A\n",
      "Iteration:  58%|█████▊    | 29/50 [00:00<00:00, 50.02it/s]\u001b[A\n",
      "Iteration:  72%|███████▏  | 36/50 [00:00<00:00, 54.62it/s]\u001b[A\n",
      "Iteration:  84%|████████▍ | 42/50 [00:00<00:00, 52.72it/s]\u001b[A\n",
      "Iteration: 100%|██████████| 50/50 [00:01<00:00, 47.78it/s]\u001b[A\n",
      "Training Epoch:  90%|█████████ | 18/20 [00:19<00:02,  1.07s/it]"
     ]
    },
    {
     "name": "stdout",
     "output_type": "stream",
     "text": [
      "\n",
      "######### Train Loss 900 #########\n",
      "0 0.2363 \n",
      "\n",
      "\n",
      "######### Eval 900 #########\n",
      "auc: 0.5718\n"
     ]
    },
    {
     "name": "stderr",
     "output_type": "stream",
     "text": [
      "\n",
      "Iteration:   0%|          | 0/50 [00:00<?, ?it/s]\u001b[A\n",
      "Iteration:  14%|█▍        | 7/50 [00:00<00:00, 58.20it/s]\u001b[A\n",
      "Iteration:  26%|██▌       | 13/50 [00:00<00:00, 53.95it/s]\u001b[A\n",
      "Iteration:  38%|███▊      | 19/50 [00:00<00:00, 55.50it/s]\u001b[A\n",
      "Iteration:  52%|█████▏    | 26/50 [00:00<00:00, 55.04it/s]\u001b[A\n",
      "Iteration:  64%|██████▍   | 32/50 [00:00<00:00, 56.07it/s]\u001b[A\n",
      "Iteration:  76%|███████▌  | 38/50 [00:00<00:00, 50.85it/s]\u001b[A\n",
      "Iteration:  88%|████████▊ | 44/50 [00:00<00:00, 49.96it/s]\u001b[A\n",
      "Iteration: 100%|██████████| 50/50 [00:00<00:00, 51.33it/s]\u001b[A\n",
      "Training Epoch:  95%|█████████▌| 19/20 [00:20<00:01,  1.05s/it]\n",
      "Iteration:   0%|          | 0/50 [00:00<?, ?it/s]\u001b[A\n",
      "Iteration:  16%|█▌        | 8/50 [00:00<00:00, 65.20it/s]\u001b[A\n",
      "Iteration:  30%|███       | 15/50 [00:00<00:00, 61.45it/s]\u001b[A\n",
      "Iteration:  44%|████▍     | 22/50 [00:00<00:00, 58.94it/s]\u001b[A\n",
      "Iteration:  56%|█████▌    | 28/50 [00:00<00:00, 51.66it/s]\u001b[A\n",
      "Iteration:  68%|██████▊   | 34/50 [00:00<00:00, 50.02it/s]\u001b[A\n",
      "Iteration:  80%|████████  | 40/50 [00:00<00:00, 49.74it/s]\u001b[A\n",
      "Iteration:  90%|█████████ | 45/50 [00:00<00:00, 49.59it/s]\u001b[A\n",
      "Iteration: 100%|██████████| 50/50 [00:01<00:00, 48.61it/s]\u001b[A\n",
      "Training Epoch: 100%|██████████| 20/20 [00:21<00:00,  1.06s/it]\n"
     ]
    },
    {
     "name": "stdout",
     "output_type": "stream",
     "text": [
      "\n",
      "######### Train Loss 1000 #########\n",
      "0 0.1937 \n",
      "\n",
      "\n",
      "######### Eval 1000 #########\n",
      "auc: 0.5676\n",
      "Load best ckpt from `./checkpoints/best`.\n",
      "Training completes.\n"
     ]
    }
   ],
   "source": [
    "model = RNN(\n",
    "    vocab_size=[len(data['voc'][o]) for o in data['order']], # get the vocab size for each type of events to build the event embedding layer\n",
    "    orders=data['order'], # similar, we need an order\n",
    "    mode='binary',\n",
    "    max_visit=20,\n",
    "    bidirectional=True,\n",
    "    epochs=20,\n",
    "    batch_size=16,\n",
    "    device='cpu',\n",
    ")\n",
    "model.fit(train_data=seqdata, valid_data=val_seqdata)"
   ]
  },
  {
   "cell_type": "code",
   "execution_count": 76,
   "id": "caa640dc",
   "metadata": {},
   "outputs": [
    {
     "name": "stdout",
     "output_type": "stream",
     "text": [
      "[[0.03759647]\n",
      " [0.3407742 ]\n",
      " [0.08466253]\n",
      " [0.04212925]\n",
      " [0.07062326]\n",
      " [0.61914057]\n",
      " [0.11943546]\n",
      " [0.28911486]\n",
      " [0.03431963]\n",
      " [0.1817149 ]\n",
      " [0.10272896]\n",
      " [0.4975288 ]\n",
      " [0.23787639]\n",
      " [0.53194153]\n",
      " [0.5683119 ]\n",
      " [0.42574254]\n",
      " [0.05658188]\n",
      " [0.10878944]\n",
      " [0.01620503]\n",
      " [0.54372704]]\n"
     ]
    }
   ],
   "source": [
    "predict = model.predict(seqdata)\n",
    "\n",
    "print(predict[:20])"
   ]
  },
  {
   "cell_type": "code",
   "execution_count": 43,
   "id": "b65ee0b0",
   "metadata": {},
   "outputs": [],
   "source": [
    "model.save_model('./checkpoints/indiv_outcome.sequence/')"
   ]
  }
 ],
 "metadata": {
  "kernelspec": {
   "display_name": "Python 3 (ipykernel)",
   "language": "python",
   "name": "python3"
  },
  "language_info": {
   "codemirror_mode": {
    "name": "ipython",
    "version": 3
   },
   "file_extension": ".py",
   "mimetype": "text/x-python",
   "name": "python",
   "nbconvert_exporter": "python",
   "pygments_lexer": "ipython3",
   "version": "3.10.9"
  }
 },
 "nbformat": 4,
 "nbformat_minor": 5
}
